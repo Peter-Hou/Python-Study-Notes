{
 "cells": [
  {
   "cell_type": "markdown",
   "id": "6ea2ac51",
   "metadata": {},
   "source": [
    "# DataSet Example\n"
   ]
  },
  {
   "cell_type": "markdown",
   "id": "af055fa1",
   "metadata": {},
   "source": [
    "We use a simple dataframe for demonstration"
   ]
  },
  {
   "cell_type": "code",
   "execution_count": 40,
   "id": "9f0996df",
   "metadata": {},
   "outputs": [],
   "source": [
    "import pandas as pd\n",
    "\n",
    "df = pd.read_csv(\"C:/Users/ZHou/Desktop/Python-Study-Notes/MachineLearning/MachingLearningFromStandford/My solution to Course Assignments/Linear Regression/ex1data1.txt\",\n",
    "                header=None, names=['Population', 'Profit'])"
   ]
  },
  {
   "cell_type": "code",
   "execution_count": 87,
   "id": "07b88b1b",
   "metadata": {},
   "outputs": [
    {
     "data": {
      "text/html": [
       "<div>\n",
       "<style scoped>\n",
       "    .dataframe tbody tr th:only-of-type {\n",
       "        vertical-align: middle;\n",
       "    }\n",
       "\n",
       "    .dataframe tbody tr th {\n",
       "        vertical-align: top;\n",
       "    }\n",
       "\n",
       "    .dataframe thead th {\n",
       "        text-align: right;\n",
       "    }\n",
       "</style>\n",
       "<table border=\"1\" class=\"dataframe\">\n",
       "  <thead>\n",
       "    <tr style=\"text-align: right;\">\n",
       "      <th></th>\n",
       "      <th>Population</th>\n",
       "      <th>Profit</th>\n",
       "    </tr>\n",
       "  </thead>\n",
       "  <tbody>\n",
       "    <tr>\n",
       "      <th>0</th>\n",
       "      <td>6.1101</td>\n",
       "      <td>17.5920</td>\n",
       "    </tr>\n",
       "    <tr>\n",
       "      <th>1</th>\n",
       "      <td>5.5277</td>\n",
       "      <td>9.1302</td>\n",
       "    </tr>\n",
       "    <tr>\n",
       "      <th>2</th>\n",
       "      <td>8.5186</td>\n",
       "      <td>13.6620</td>\n",
       "    </tr>\n",
       "    <tr>\n",
       "      <th>3</th>\n",
       "      <td>7.0032</td>\n",
       "      <td>11.8540</td>\n",
       "    </tr>\n",
       "    <tr>\n",
       "      <th>4</th>\n",
       "      <td>5.8598</td>\n",
       "      <td>6.8233</td>\n",
       "    </tr>\n",
       "  </tbody>\n",
       "</table>\n",
       "</div>"
      ],
      "text/plain": [
       "   Population   Profit\n",
       "0      6.1101  17.5920\n",
       "1      5.5277   9.1302\n",
       "2      8.5186  13.6620\n",
       "3      7.0032  11.8540\n",
       "4      5.8598   6.8233"
      ]
     },
     "execution_count": 87,
     "metadata": {},
     "output_type": "execute_result"
    }
   ],
   "source": [
    "df.head()"
   ]
  },
  {
   "cell_type": "code",
   "execution_count": 42,
   "id": "efa68cd7",
   "metadata": {},
   "outputs": [],
   "source": [
    "import numpy as np\n",
    "x0 = pd.DataFrame({\"x0\": np.ones(df.shape[0])})\n",
    "X = pd.concat([x0, df.iloc[:, 0]], axis = 1)\n",
    "y = df.iloc[:, 1:]"
   ]
  },
  {
   "cell_type": "markdown",
   "id": "b0698658",
   "metadata": {},
   "source": [
    "# Algo1: Normal Equation\n",
    "\n",
    "The best parameter can be directly calculated by\n",
    " $$ \\Theta = (X^TX)^{-1}X^Ty$$"
   ]
  },
  {
   "cell_type": "code",
   "execution_count": 43,
   "id": "7b141f59",
   "metadata": {},
   "outputs": [
    {
     "data": {
      "text/html": [
       "<div>\n",
       "<style scoped>\n",
       "    .dataframe tbody tr th:only-of-type {\n",
       "        vertical-align: middle;\n",
       "    }\n",
       "\n",
       "    .dataframe tbody tr th {\n",
       "        vertical-align: top;\n",
       "    }\n",
       "\n",
       "    .dataframe thead th {\n",
       "        text-align: right;\n",
       "    }\n",
       "</style>\n",
       "<table border=\"1\" class=\"dataframe\">\n",
       "  <thead>\n",
       "    <tr style=\"text-align: right;\">\n",
       "      <th></th>\n",
       "      <th>Profit</th>\n",
       "    </tr>\n",
       "  </thead>\n",
       "  <tbody>\n",
       "    <tr>\n",
       "      <th>0</th>\n",
       "      <td>-3.895781</td>\n",
       "    </tr>\n",
       "    <tr>\n",
       "      <th>1</th>\n",
       "      <td>1.193034</td>\n",
       "    </tr>\n",
       "  </tbody>\n",
       "</table>\n",
       "</div>"
      ],
      "text/plain": [
       "     Profit\n",
       "0 -3.895781\n",
       "1  1.193034"
      ]
     },
     "execution_count": 43,
     "metadata": {},
     "output_type": "execute_result"
    }
   ],
   "source": [
    "# Using normal equations\n",
    "theta = np.linalg.inv(X.T@X)@X.T@y\n",
    "theta"
   ]
  },
  {
   "cell_type": "markdown",
   "id": "574331dc",
   "metadata": {},
   "source": [
    "Since it requires inverse, then its running time would be around $O(n^3)$"
   ]
  },
  {
   "cell_type": "markdown",
   "id": "c148ac2d",
   "metadata": {},
   "source": [
    "# Algo2: SVD (Singular Value Decomposation)\n",
    "\n",
    "It is directly implemented with LinearRegressio in sklearn library"
   ]
  },
  {
   "cell_type": "code",
   "execution_count": 48,
   "id": "6e39adc3",
   "metadata": {},
   "outputs": [
    {
     "data": {
      "text/plain": [
       "(array([-3.89578088]), array([[1.19303364]]))"
      ]
     },
     "execution_count": 48,
     "metadata": {},
     "output_type": "execute_result"
    }
   ],
   "source": [
    "from sklearn.linear_model import LinearRegression\n",
    "\n",
    "model = LinearRegression()b\n",
    "model.fit(df.iloc[:, 0:1], y)\n",
    "model.intercept_, model.coef_"
   ]
  },
  {
   "cell_type": "markdown",
   "id": "c259d601",
   "metadata": {},
   "source": [
    "The run time is around $O(n^2)$"
   ]
  },
  {
   "cell_type": "markdown",
   "id": "6a892717",
   "metadata": {},
   "source": [
    "# Algo3: Bath Gradient Descent"
   ]
  },
  {
   "cell_type": "code",
   "execution_count": 75,
   "id": "24ca9333",
   "metadata": {},
   "outputs": [
    {
     "name": "stdout",
     "output_type": "stream",
     "text": [
      "(97, 2) (97, 1) (2, 1)\n"
     ]
    },
    {
     "data": {
      "text/plain": [
       "matrix([[-3.24140214],\n",
       "        [ 1.1272942 ]])"
      ]
     },
     "execution_count": 75,
     "metadata": {},
     "output_type": "execute_result"
    }
   ],
   "source": [
    "# batch gradiant descent compute manually\n",
    "alpha = 0.01\n",
    "iters = 1000\n",
    "\n",
    "X1 = np.matrix(X)\n",
    "y1 = np.matrix(y)\n",
    "\n",
    "theta = np.matrix([[0,0]]).T\n",
    "print(X.shape, y.shape, theta.shape)\n",
    "\n",
    "def gradientDescent(X, y, theta, alpha, iters):\n",
    "    for times in range(iters):\n",
    "        gradient = 1/len(X) * X.T@(X@(theta) -y)\n",
    "        theta = theta - alpha * gradient\n",
    "    return theta\n",
    "\n",
    "theta = gradientDescent(X1, y1, theta, alpha, iters)\n",
    "\n",
    "theta"
   ]
  },
  {
   "cell_type": "code",
   "execution_count": 136,
   "id": "c593043b",
   "metadata": {},
   "outputs": [
    {
     "data": {
      "text/plain": [
       "(array([  48.42880597,   65.20520119,  144.10232167,  161.80982067,\n",
       "          67.58373035,  126.8840641 ,   72.41468691,   68.32886844,\n",
       "          19.94725224,  -30.22564221,  -52.38867292,  -22.09395053,\n",
       "         -49.53613713,  -10.97644283,  -70.87609297,  -49.356075  ,\n",
       "         -84.72629024,  -34.19356001, -179.85455247, -197.22202735,\n",
       "         -58.70433527, -147.93874276, -229.75100502]),\n",
       " array([[-2.17959895e+01],\n",
       "        [-1.84998318e+01],\n",
       "        [-3.33333333e+01],\n",
       "        [-4.26015337e+01],\n",
       "        [-5.75221239e+01],\n",
       "        [-2.81690141e+01],\n",
       "        [-2.62329486e+01],\n",
       "        [-2.81401893e+01],\n",
       "        [-1.38696255e+01],\n",
       "        [-7.28597450e+00],\n",
       "        [-4.54416359e+01],\n",
       "        [-1.52361605e+01],\n",
       "        [ 1.45081422e-13],\n",
       "        [-2.92056075e+01],\n",
       "        [-2.30566535e+01],\n",
       "        [ 2.92056075e+00],\n",
       "        [-8.14995925e+00],\n",
       "        [-3.20512821e+01],\n",
       "        [-4.24268137e+00],\n",
       "        [ 8.29187396e+00],\n",
       "        [-6.32511069e+00],\n",
       "        [ 2.55819903e+00],\n",
       "        [-3.59314538e+01]]))"
      ]
     },
     "execution_count": 136,
     "metadata": {},
     "output_type": "execute_result"
    }
   ],
   "source": [
    "# batch gradient descent with sklearn algorithm\n",
    "from sklearn.linear_model import SGDClassifier\n",
    "\n",
    "classifier = SGDClassifier(max_iter=1000, tol=1e-3)\n",
    "X = df.iloc[:, 0:1]\n",
    "X = X.astype(\"int\")\n",
    "classifier.fit(np.array(X), np.array(y).ravel())\n",
    "classifier.intercept_, classifier.coef_"
   ]
  },
  {
   "cell_type": "markdown",
   "id": "d8283668",
   "metadata": {},
   "source": [
    "# ALgo4: Stochastic Gradient Descent"
   ]
  },
  {
   "cell_type": "code",
   "execution_count": 132,
   "id": "426ebedd",
   "metadata": {},
   "outputs": [
    {
     "name": "stderr",
     "output_type": "stream",
     "text": [
      "C:\\Users\\ZHou\\Anaconda\\lib\\site-packages\\sklearn\\utils\\validation.py:63: DataConversionWarning: A column-vector y was passed when a 1d array was expected. Please change the shape of y to (n_samples, ), for example using ravel().\n",
      "  return f(*args, **kwargs)\n"
     ]
    },
    {
     "data": {
      "text/plain": [
       "array([[-12.02166102],\n",
       "       [-17.9124805 ],\n",
       "       [-35.98000755],\n",
       "       [-42.56868355],\n",
       "       [-36.46226262],\n",
       "       [-24.94502154],\n",
       "       [-22.91965839],\n",
       "       [-34.49981575],\n",
       "       [ -1.60631209],\n",
       "       [-36.01769533],\n",
       "       [  2.79466039],\n",
       "       [-15.18716712],\n",
       "       [ -8.7543568 ],\n",
       "       [-60.44924186],\n",
       "       [-52.23128571],\n",
       "       [-17.29582867],\n",
       "       [-10.24269288],\n",
       "       [-49.74948162],\n",
       "       [-62.69504847],\n",
       "       [-17.39234205],\n",
       "       [-28.00737145],\n",
       "       [-17.45453384],\n",
       "       [  1.27320682]])"
      ]
     },
     "execution_count": 132,
     "metadata": {},
     "output_type": "execute_result"
    }
   ],
   "source": [
    "sgd_reg = SGDClassifier(max_iter = 1000, tol=1e-3, penalty=None, eta0=0.1)\n",
    "X = df.iloc[:, 0:1]\n",
    "X = X.astype(\"int\")\n",
    "sgd_reg.fit(X, y)\n",
    "\n",
    "sgd_reg.coef_"
   ]
  },
  {
   "cell_type": "code",
   "execution_count": 128,
   "id": "5804ec70",
   "metadata": {},
   "outputs": [
    {
     "data": {
      "text/plain": [
       "dtype('int32')"
      ]
     },
     "execution_count": 128,
     "metadata": {},
     "output_type": "execute_result"
    }
   ],
   "source": [
    "index = range(0, len(X))\n",
    "new_X = pd.concat([pd.Series(index), df.iloc[:, 0:1]], axis = 1)\n",
    "\n",
    "new_X = np.array(new_X)\n",
    "\n",
    "new_X = new_X.astype('int')\n",
    "y = y.astype('int')\n",
    "np.array(y).ravel().dtype"
   ]
  }
 ],
 "metadata": {
  "kernelspec": {
   "display_name": "Python 3 (ipykernel)",
   "language": "python",
   "name": "python3"
  },
  "language_info": {
   "codemirror_mode": {
    "name": "ipython",
    "version": 3
   },
   "file_extension": ".py",
   "mimetype": "text/x-python",
   "name": "python",
   "nbconvert_exporter": "python",
   "pygments_lexer": "ipython3",
   "version": "3.9.7"
  }
 },
 "nbformat": 4,
 "nbformat_minor": 5
}
