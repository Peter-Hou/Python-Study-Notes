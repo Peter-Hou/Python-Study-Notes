{
 "cells": [
  {
   "cell_type": "markdown",
   "id": "d4a6342b",
   "metadata": {},
   "source": [
    "# DataSet Example\n"
   ]
  },
  {
   "cell_type": "markdown",
   "id": "2fbe2f60",
   "metadata": {},
   "source": [
    "We use a simple dataframe for demonstration"
   ]
  },
  {
   "cell_type": "code",
   "execution_count": 151,
   "id": "87431c11",
   "metadata": {},
   "outputs": [],
   "source": [
    "import pandas as pd\n",
    "\n",
    "df = pd.read_csv(\"C:/Users/ZHou/Desktop/Python-Study-Notes/MachineLearning/MachingLearningFromStandford/My solution to Course Assignments/Linear Regression/ex1data1.txt\",\n",
    "                header=None, names=['Population', 'Profit'])"
   ]
  },
  {
   "cell_type": "code",
   "execution_count": 152,
   "id": "2ce4202e",
   "metadata": {
    "scrolled": true
   },
   "outputs": [
    {
     "data": {
      "text/html": [
       "<div>\n",
       "<style scoped>\n",
       "    .dataframe tbody tr th:only-of-type {\n",
       "        vertical-align: middle;\n",
       "    }\n",
       "\n",
       "    .dataframe tbody tr th {\n",
       "        vertical-align: top;\n",
       "    }\n",
       "\n",
       "    .dataframe thead th {\n",
       "        text-align: right;\n",
       "    }\n",
       "</style>\n",
       "<table border=\"1\" class=\"dataframe\">\n",
       "  <thead>\n",
       "    <tr style=\"text-align: right;\">\n",
       "      <th></th>\n",
       "      <th>Population</th>\n",
       "      <th>Profit</th>\n",
       "    </tr>\n",
       "  </thead>\n",
       "  <tbody>\n",
       "    <tr>\n",
       "      <th>0</th>\n",
       "      <td>6.1101</td>\n",
       "      <td>17.5920</td>\n",
       "    </tr>\n",
       "    <tr>\n",
       "      <th>1</th>\n",
       "      <td>5.5277</td>\n",
       "      <td>9.1302</td>\n",
       "    </tr>\n",
       "    <tr>\n",
       "      <th>2</th>\n",
       "      <td>8.5186</td>\n",
       "      <td>13.6620</td>\n",
       "    </tr>\n",
       "    <tr>\n",
       "      <th>3</th>\n",
       "      <td>7.0032</td>\n",
       "      <td>11.8540</td>\n",
       "    </tr>\n",
       "    <tr>\n",
       "      <th>4</th>\n",
       "      <td>5.8598</td>\n",
       "      <td>6.8233</td>\n",
       "    </tr>\n",
       "  </tbody>\n",
       "</table>\n",
       "</div>"
      ],
      "text/plain": [
       "   Population   Profit\n",
       "0      6.1101  17.5920\n",
       "1      5.5277   9.1302\n",
       "2      8.5186  13.6620\n",
       "3      7.0032  11.8540\n",
       "4      5.8598   6.8233"
      ]
     },
     "execution_count": 152,
     "metadata": {},
     "output_type": "execute_result"
    }
   ],
   "source": [
    "df.head()"
   ]
  },
  {
   "cell_type": "code",
   "execution_count": 153,
   "id": "9041cc9d",
   "metadata": {},
   "outputs": [],
   "source": [
    "import numpy as np\n",
    "x0 = pd.DataFrame({\"x0\": np.ones(df.shape[0])})\n",
    "X = pd.concat([x0, df.iloc[:, 0]], axis = 1)\n",
    "y = df.iloc[:, 1:]"
   ]
  },
  {
   "cell_type": "markdown",
   "id": "024bfae5",
   "metadata": {},
   "source": [
    "# Algo1: Normal Equation\n",
    "\n",
    "The best parameter can be directly calculated by\n",
    " $$ \\Theta = (X^TX)^{-1}X^Ty$$"
   ]
  },
  {
   "cell_type": "code",
   "execution_count": 154,
   "id": "5e1dd12e",
   "metadata": {},
   "outputs": [
    {
     "data": {
      "text/html": [
       "<div>\n",
       "<style scoped>\n",
       "    .dataframe tbody tr th:only-of-type {\n",
       "        vertical-align: middle;\n",
       "    }\n",
       "\n",
       "    .dataframe tbody tr th {\n",
       "        vertical-align: top;\n",
       "    }\n",
       "\n",
       "    .dataframe thead th {\n",
       "        text-align: right;\n",
       "    }\n",
       "</style>\n",
       "<table border=\"1\" class=\"dataframe\">\n",
       "  <thead>\n",
       "    <tr style=\"text-align: right;\">\n",
       "      <th></th>\n",
       "      <th>Profit</th>\n",
       "    </tr>\n",
       "  </thead>\n",
       "  <tbody>\n",
       "    <tr>\n",
       "      <th>0</th>\n",
       "      <td>-3.895781</td>\n",
       "    </tr>\n",
       "    <tr>\n",
       "      <th>1</th>\n",
       "      <td>1.193034</td>\n",
       "    </tr>\n",
       "  </tbody>\n",
       "</table>\n",
       "</div>"
      ],
      "text/plain": [
       "     Profit\n",
       "0 -3.895781\n",
       "1  1.193034"
      ]
     },
     "execution_count": 154,
     "metadata": {},
     "output_type": "execute_result"
    }
   ],
   "source": [
    "# Using normal equations\n",
    "theta = np.linalg.inv(X.T@X)@X.T@y\n",
    "theta"
   ]
  },
  {
   "cell_type": "markdown",
   "id": "a12915b8",
   "metadata": {},
   "source": [
    "Since it requires inverse, then its running time would be around $O(n^3)$"
   ]
  },
  {
   "cell_type": "markdown",
   "id": "ca84f177",
   "metadata": {},
   "source": [
    "# Algo2: SVD (Singular Value Decomposation)\n",
    "\n",
    "It is directly implemented with LinearRegressio in sklearn library"
   ]
  },
  {
   "cell_type": "code",
   "execution_count": 156,
   "id": "91ad2cc7",
   "metadata": {},
   "outputs": [
    {
     "data": {
      "text/plain": [
       "(array([-3.89578088]), array([[1.19303364]]))"
      ]
     },
     "execution_count": 156,
     "metadata": {},
     "output_type": "execute_result"
    }
   ],
   "source": [
    "from sklearn.linear_model import LinearRegression\n",
    "\n",
    "model = LinearRegression()\n",
    "model.fit(df.iloc[:, 0:1], y)\n",
    "model.intercept_, model.coef_"
   ]
  },
  {
   "cell_type": "markdown",
   "id": "1de751f2",
   "metadata": {},
   "source": [
    "The run time is around $O(n^2)$"
   ]
  },
  {
   "cell_type": "markdown",
   "id": "69384f86",
   "metadata": {},
   "source": [
    "# Algo3: Bath Gradient Descent"
   ]
  },
  {
   "cell_type": "markdown",
   "id": "51f3fe16",
   "metadata": {},
   "source": [
    "Batch - the whol dataset\n",
    "\n",
    "In simple words, it performs **gradient descent** on the **entire dataset**.\n",
    "\n",
    "Very slow when it comes to a large dataset (many rows)"
   ]
  },
  {
   "cell_type": "code",
   "execution_count": 157,
   "id": "b39a16fc",
   "metadata": {},
   "outputs": [
    {
     "name": "stdout",
     "output_type": "stream",
     "text": [
      "(97, 2) (97, 1) (2, 1)\n"
     ]
    },
    {
     "data": {
      "text/plain": [
       "matrix([[-3.78806857],\n",
       "        [ 1.18221277]])"
      ]
     },
     "execution_count": 157,
     "metadata": {},
     "output_type": "execute_result"
    }
   ],
   "source": [
    "# batch gradiant descent compute manually\n",
    "alpha = 0.01\n",
    "iters = 2000\n",
    "\n",
    "X1 = np.matrix(X)\n",
    "y1 = np.matrix(y)\n",
    "\n",
    "theta = np.matrix([[0,0]]).T\n",
    "print(X.shape, y.shape, theta.shape)\n",
    "\n",
    "def gradientDescent(X, y, theta, alpha, iters):\n",
    "    for times in range(iters):\n",
    "        gradient = 1/len(X) * X.T@(X@(theta) -y)\n",
    "        theta = theta - alpha * gradient\n",
    "    return theta\n",
    "\n",
    "theta = gradientDescent(X1, y1, theta, alpha, iters)\n",
    "\n",
    "theta"
   ]
  },
  {
   "cell_type": "markdown",
   "id": "fd6865e3",
   "metadata": {},
   "source": [
    "# Algo4: Stochastic Gradient Descent"
   ]
  },
  {
   "cell_type": "markdown",
   "id": "cd80b8c5",
   "metadata": {},
   "source": [
    "Stochastic - Random\n",
    "\n",
    "Randomly pick **one entry** of the dataset and do the **gradient descent**\n",
    "\n",
    "Very fast compared to batch., and it jump out of the local minimum because it is so random.\n",
    "\n",
    "(large number of iterations are needed to for to converge well)"
   ]
  },
  {
   "cell_type": "code",
   "execution_count": 186,
   "id": "76f8b865",
   "metadata": {},
   "outputs": [
    {
     "data": {
      "text/plain": [
       "(array([-3.59710336]), array([0.96434126]))"
      ]
     },
     "execution_count": 186,
     "metadata": {},
     "output_type": "execute_result"
    }
   ],
   "source": [
    "from sklearn.linear_model import SGDRegressor\n",
    "sgd_reg = SGDRegressor(max_iter = 1000000000, tol=1e-3, penalty=None, eta0=0.1)\n",
    "X = df.iloc[:, 0:1]\n",
    "sgd_reg.fit(X, np.array(y).ravel())\n",
    "\n",
    "sgd_reg.intercept_, sgd_reg.coef_"
   ]
  },
  {
   "cell_type": "markdown",
   "id": "472e4cbe",
   "metadata": {},
   "source": [
    "# Algo 5: Mini-Batch Gradient Descent"
   ]
  },
  {
   "cell_type": "markdown",
   "id": "5513421c",
   "metadata": {},
   "source": [
    "Mini-Batch - samll subset of the entire dataset\n",
    "\n",
    "Randomly pick **a small subset of the entire dataset** and do the gradient descent\n",
    "\n",
    "Still very faset compared to batch, but may be hard to jump out of the local minimum\n",
    "\n",
    "It generally require less iterations than the stochastic one requires"
   ]
  },
  {
   "cell_type": "code",
   "execution_count": 180,
   "id": "68b4aad8",
   "metadata": {},
   "outputs": [
    {
     "data": {
      "text/plain": [
       "(array([-3.79386535]), array([1.34804044]))"
      ]
     },
     "execution_count": 180,
     "metadata": {},
     "output_type": "execute_result"
    }
   ],
   "source": [
    "mini_reg = SGDRegressor(max_iter = 100000, tol=1e-3, penalty=None, eta0=0.1)\n",
    "X = df.iloc[:, 0:1]\n",
    "mini_reg.partial_fit(X, np.array(y).ravel())\n",
    "\n",
    "mini_reg.intercept_, sgd_reg.coef_"
   ]
  }
 ],
 "metadata": {
  "kernelspec": {
   "display_name": "Python 3 (ipykernel)",
   "language": "python",
   "name": "python3"
  },
  "language_info": {
   "codemirror_mode": {
    "name": "ipython",
    "version": 3
   },
   "file_extension": ".py",
   "mimetype": "text/x-python",
   "name": "python",
   "nbconvert_exporter": "python",
   "pygments_lexer": "ipython3",
   "version": "3.9.7"
  }
 },
 "nbformat": 4,
 "nbformat_minor": 5
}
