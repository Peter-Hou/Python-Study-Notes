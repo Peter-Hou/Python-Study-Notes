{
 "cells": [
  {
   "cell_type": "code",
   "execution_count": 61,
   "id": "81be0e11",
   "metadata": {},
   "outputs": [
    {
     "data": {
      "text/plain": [
       "'sraposo@equipementscooper.ca;jkucherawy@cooperequipment.ca;rortega@cooperequipment.ca;rcalfat@cooperequipment.ca;rlagrandeur@cooperequipment.ca;kwilson@cooperequipment.ca;SPravato@cooperequipment.ca'"
      ]
     },
     "execution_count": 61,
     "metadata": {},
     "output_type": "execute_result"
    }
   ],
   "source": [
    "import pandas as pd\n",
    "import numpy as np\n",
    "s1 = 'Steve Raposo – sraposo@equipementscooper.ca\\\n",
    "Jeff Kucherawy – jkucherawy@cooperequipment.ca\\\n",
    "Roy Ortega – rortega@cooperequipment.ca\\\n",
    "Ryan Calfat – rcalfat@cooperequipment.ca'\n",
    "\n",
    "\n",
    "lst = string.split('–')\n",
    "\n",
    "lst\n",
    "\n",
    "s = pd.Series(lst).str.extract('(\\w+@\\w+.ca)')\n",
    "s = s.dropna(axis = 0)\n",
    "\n",
    "s2 = 'rlagrandeur@cooperequipment.ca;kwilson@cooperequipment.ca;SPravato@cooperequipment.ca'\n",
    "s2 = s2.split(';')\n",
    "s2 = pd.DataFrame(s2)\n",
    "s= s.append(s2, ignore_index = True)\n",
    "s.duplicated()\n",
    "\n",
    "';'.join([s[0] for s in s.values.tolist()])\n",
    "\n"
   ]
  },
  {
   "cell_type": "code",
   "execution_count": 60,
   "id": "168e0416",
   "metadata": {},
   "outputs": [
    {
     "name": "stdout",
     "output_type": "stream",
     "text": [
      "16624-16625-16670-16672-16673-16674-16675-16676-16677-16679-\n",
      "OR rspf.rspf_group_n = '16624'\n",
      "OR rspf.rspf_group_n = '16625'\n",
      "OR rspf.rspf_group_n = '16670'\n",
      "OR rspf.rspf_group_n = '16672'\n",
      "OR rspf.rspf_group_n = '16673'\n",
      "OR rspf.rspf_group_n = '16674'\n",
      "OR rspf.rspf_group_n = '16675'\n",
      "OR rspf.rspf_group_n = '16676'\n",
      "OR rspf.rspf_group_n = '16677'\n",
      "OR rspf.rspf_group_n = '16679'\n",
      "OR rspf.rspf_group_n = ''\n"
     ]
    }
   ],
   "source": [
    "s = '16624-\\\n",
    "16625-\\\n",
    "16670-\\\n",
    "16672-\\\n",
    "16673-\\\n",
    "16674-\\\n",
    "16675-\\\n",
    "16676-\\\n",
    "16677-\\\n",
    "16679-\\\n",
    "'\n",
    "print(s)\n",
    "s = s.split('-')\n",
    "\n",
    "for ss in s:\n",
    "    print(f\"OR rspf.rspf_group_n = \\'{ss}\\'\")"
   ]
  }
 ],
 "metadata": {
  "kernelspec": {
   "display_name": "Python 3 (ipykernel)",
   "language": "python",
   "name": "python3"
  },
  "language_info": {
   "codemirror_mode": {
    "name": "ipython",
    "version": 3
   },
   "file_extension": ".py",
   "mimetype": "text/x-python",
   "name": "python",
   "nbconvert_exporter": "python",
   "pygments_lexer": "ipython3",
   "version": "3.9.7"
  }
 },
 "nbformat": 4,
 "nbformat_minor": 5
}
