{
 "cells": [
  {
   "cell_type": "code",
   "execution_count": 17,
   "id": "102fa795",
   "metadata": {},
   "outputs": [
    {
     "name": "stdout",
     "output_type": "stream",
     "text": [
      "18\n"
     ]
    }
   ],
   "source": [
    "import pandas as pd\n",
    "existing_rep = \"rsosales@cooperequipment.ca;branchmanagers@cooperequipment.ca ;rnosales@cooperequipment.ca;AEdwards@cooperequipment.ca;regional.managers@cooperequipment.ca;ransales@cooperequipment.ca;rtssales@cooperequipment.ca;rbcsales@cooperequipment.ca;rassales@cooperequipment.ca\"\n",
    "\n",
    "exist_rep = existing_rep.split(';')\n",
    "\n",
    "exist_rep\n",
    "\n",
    "new_rep = []\n",
    "\n",
    "with open('new_rep.txt', 'r') as f:\n",
    "    f = f.readlines()\n",
    "    print(len(f))\n",
    "    for email in f:\n",
    "        email = email.strip('\\n')\n",
    "        new_rep.append(email)\n",
    "\n",
    "df = pd.DataFrame(new_rep, columns = ['email'])\n",
    "\n",
    "df.duplicated(subset = 'email')\n",
    "\n",
    "df.to_csv('recipient.csv')\n",
    "\n"
   ]
  },
  {
   "cell_type": "code",
   "execution_count": 18,
   "id": "2503d5ff",
   "metadata": {},
   "outputs": [
    {
     "data": {
      "text/plain": [
       "(18, 1)"
      ]
     },
     "execution_count": 18,
     "metadata": {},
     "output_type": "execute_result"
    }
   ],
   "source": [
    "df.shape"
   ]
  }
 ],
 "metadata": {
  "kernelspec": {
   "display_name": "Python 3 (ipykernel)",
   "language": "python",
   "name": "python3"
  },
  "language_info": {
   "codemirror_mode": {
    "name": "ipython",
    "version": 3
   },
   "file_extension": ".py",
   "mimetype": "text/x-python",
   "name": "python",
   "nbconvert_exporter": "python",
   "pygments_lexer": "ipython3",
   "version": "3.9.7"
  }
 },
 "nbformat": 4,
 "nbformat_minor": 5
}
