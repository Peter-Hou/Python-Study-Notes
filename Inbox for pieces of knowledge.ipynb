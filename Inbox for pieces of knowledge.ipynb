{
 "cells": [
  {
   "cell_type": "code",
   "execution_count": 4,
   "id": "4fcb120b",
   "metadata": {},
   "outputs": [],
   "source": [
    "import pandas as pd\n",
    "\n",
    "\n",
    "df.iloc[:, num] # produces a pandas series\n",
    "df.iloc[:, num:] # produces a dataframe\n"
   ]
  },
  {
   "cell_type": "markdown",
   "id": "2d444b5f",
   "metadata": {},
   "source": [
    "Useful for converting to matrix with numpy. Series is of dimension (1, ncols)"
   ]
  }
 ],
 "metadata": {
  "kernelspec": {
   "display_name": "Python 3 (ipykernel)",
   "language": "python",
   "name": "python3"
  },
  "language_info": {
   "codemirror_mode": {
    "name": "ipython",
    "version": 3
   },
   "file_extension": ".py",
   "mimetype": "text/x-python",
   "name": "python",
   "nbconvert_exporter": "python",
   "pygments_lexer": "ipython3",
   "version": "3.9.7"
  }
 },
 "nbformat": 4,
 "nbformat_minor": 5
}
