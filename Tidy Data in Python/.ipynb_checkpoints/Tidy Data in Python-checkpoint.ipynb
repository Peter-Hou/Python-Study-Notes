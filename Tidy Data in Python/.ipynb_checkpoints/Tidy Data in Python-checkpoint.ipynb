{
 "cells": [
  {
   "cell_type": "markdown",
   "id": "fb81861a",
   "metadata": {},
   "source": [
    "## Definition of Standard Data Structure\n",
    "\n",
    "- Each ***variable*** has its own, **single** column and contain ***values***\n",
    "- Each observation forms a row\n",
    "- Each type of ***observational unit*** forms a table"
   ]
  },
  {
   "cell_type": "markdown",
   "id": "f267675f",
   "metadata": {},
   "source": [
    "### Example of messy datasets"
   ]
  },
  {
   "cell_type": "code",
   "execution_count": 1,
   "id": "5be3f487",
   "metadata": {},
   "outputs": [
    {
     "data": {
      "text/html": [
       "<div>\n",
       "<style scoped>\n",
       "    .dataframe tbody tr th:only-of-type {\n",
       "        vertical-align: middle;\n",
       "    }\n",
       "\n",
       "    .dataframe tbody tr th {\n",
       "        vertical-align: top;\n",
       "    }\n",
       "\n",
       "    .dataframe thead th {\n",
       "        text-align: right;\n",
       "    }\n",
       "</style>\n",
       "<table border=\"1\" class=\"dataframe\">\n",
       "  <thead>\n",
       "    <tr style=\"text-align: right;\">\n",
       "      <th></th>\n",
       "      <th></th>\n",
       "      <th>Treatment A</th>\n",
       "      <th>Treatment B</th>\n",
       "    </tr>\n",
       "  </thead>\n",
       "  <tbody>\n",
       "    <tr>\n",
       "      <th>0</th>\n",
       "      <td>John</td>\n",
       "      <td>-</td>\n",
       "      <td>2</td>\n",
       "    </tr>\n",
       "    <tr>\n",
       "      <th>1</th>\n",
       "      <td>Jane</td>\n",
       "      <td>16</td>\n",
       "      <td>11</td>\n",
       "    </tr>\n",
       "  </tbody>\n",
       "</table>\n",
       "</div>"
      ],
      "text/plain": [
       "        Treatment A  Treatment B\n",
       "0  John           -            2\n",
       "1  Jane          16           11"
      ]
     },
     "execution_count": 1,
     "metadata": {},
     "output_type": "execute_result"
    }
   ],
   "source": [
    "import pandas as pd\n",
    "\n",
    "messy_dict = {'':['John', 'Jane'], 'Treatment A': ['-', 16], 'Treatment B': [2, 11]}\n",
    "\n",
    "messy_df = pd.DataFrame.from_dict(messy_dict)\n",
    "\n",
    "messy_df"
   ]
  },
  {
   "cell_type": "code",
   "execution_count": null,
   "id": "e082f983",
   "metadata": {},
   "outputs": [],
   "source": [
    "Example of a tidy dataset\n",
    "tidy_dict = {'Name':['John', 'John', 'Jane', 'Jane'], 'Treatment': ['A', 'B', 'A', 'B'], 'Result':['-', 2, 16, 11]}\n",
    "​\n",
    "tidy_df = pd.DataFrame.from_dict(tidy_dict)\n",
    "​\n",
    "tidy_df\n",
    "Name\tTreatment\tResult\n",
    "0\tJohn\tA\t-\n",
    "1\tJohn\tB\t2\n",
    "2\tJane\tA\t16\n",
    "3\tJane\tB\t11"
   ]
  }
 ],
 "metadata": {
  "kernelspec": {
   "display_name": "Python 3 (ipykernel)",
   "language": "python",
   "name": "python3"
  },
  "language_info": {
   "codemirror_mode": {
    "name": "ipython",
    "version": 3
   },
   "file_extension": ".py",
   "mimetype": "text/x-python",
   "name": "python",
   "nbconvert_exporter": "python",
   "pygments_lexer": "ipython3",
   "version": "3.9.7"
  }
 },
 "nbformat": 4,
 "nbformat_minor": 5
}
