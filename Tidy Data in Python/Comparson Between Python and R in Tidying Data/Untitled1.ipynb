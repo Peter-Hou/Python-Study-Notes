{
 "cells": [
  {
   "cell_type": "code",
   "execution_count": 5,
   "id": "f8fc72d0",
   "metadata": {},
   "outputs": [
    {
     "data": {
      "text/html": [
       "<table>\n",
       "<thead><tr><th scope=col>Name</th><th scope=col>Treatment.A</th><th scope=col>Treatment.B</th></tr></thead>\n",
       "<tbody>\n",
       "\t<tr><td>John</td><td>10  </td><td>20  </td></tr>\n",
       "\t<tr><td>Jake</td><td>12  </td><td>21  </td></tr>\n",
       "</tbody>\n",
       "</table>\n"
      ],
      "text/latex": [
       "\\begin{tabular}{r|lll}\n",
       " Name & Treatment.A & Treatment.B\\\\\n",
       "\\hline\n",
       "\t John & 10   & 20  \\\\\n",
       "\t Jake & 12   & 21  \\\\\n",
       "\\end{tabular}\n"
      ],
      "text/markdown": [
       "\n",
       "| Name | Treatment.A | Treatment.B |\n",
       "|---|---|---|\n",
       "| John | 10   | 20   |\n",
       "| Jake | 12   | 21   |\n",
       "\n"
      ],
      "text/plain": [
       "  Name Treatment.A Treatment.B\n",
       "1 John 10          20         \n",
       "2 Jake 12          21         "
      ]
     },
     "metadata": {},
     "output_type": "display_data"
    }
   ],
   "source": [
    "\n",
    "df = list(\"Name\" = c(\"John\", \"Jake\"), \"Treatment A\" = c(10, 12), \"Treatment B\" = c(20, 21))\n",
    "\n",
    "df = data.frame(df)\n",
    "\n",
    "df\n"
   ]
  },
  {
   "cell_type": "markdown",
   "id": "55cbbabb",
   "metadata": {},
   "source": [
    "We reshape the dataset so that the variable treatment (of value A, B) is in a single column"
   ]
  },
  {
   "cell_type": "code",
   "execution_count": 9,
   "id": "4c881247",
   "metadata": {},
   "outputs": [
    {
     "data": {
      "text/html": [
       "<table>\n",
       "<thead><tr><th scope=col>Name</th><th scope=col>Treatment</th><th scope=col>Result</th></tr></thead>\n",
       "<tbody>\n",
       "\t<tr><td>John       </td><td>Treatment.A</td><td>10         </td></tr>\n",
       "\t<tr><td>Jake       </td><td>Treatment.A</td><td>12         </td></tr>\n",
       "\t<tr><td>John       </td><td>Treatment.B</td><td>20         </td></tr>\n",
       "\t<tr><td>Jake       </td><td>Treatment.B</td><td>21         </td></tr>\n",
       "</tbody>\n",
       "</table>\n"
      ],
      "text/latex": [
       "\\begin{tabular}{r|lll}\n",
       " Name & Treatment & Result\\\\\n",
       "\\hline\n",
       "\t John        & Treatment.A & 10         \\\\\n",
       "\t Jake        & Treatment.A & 12         \\\\\n",
       "\t John        & Treatment.B & 20         \\\\\n",
       "\t Jake        & Treatment.B & 21         \\\\\n",
       "\\end{tabular}\n"
      ],
      "text/markdown": [
       "\n",
       "| Name | Treatment | Result |\n",
       "|---|---|---|\n",
       "| John        | Treatment.A | 10          |\n",
       "| Jake        | Treatment.A | 12          |\n",
       "| John        | Treatment.B | 20          |\n",
       "| Jake        | Treatment.B | 21          |\n",
       "\n"
      ],
      "text/plain": [
       "  Name Treatment   Result\n",
       "1 John Treatment.A 10    \n",
       "2 Jake Treatment.A 12    \n",
       "3 John Treatment.B 20    \n",
       "4 Jake Treatment.B 21    "
      ]
     },
     "metadata": {},
     "output_type": "display_data"
    }
   ],
   "source": [
    "library(reshape2)\n",
    "\n",
    "melt(df, id.vars = 'Name', variable.name = 'Treatment', value.name = 'Result')"
   ]
  },
  {
   "cell_type": "code",
   "execution_count": 41,
   "id": "5e1da740",
   "metadata": {},
   "outputs": [
    {
     "data": {
      "text/html": [
       "<table>\n",
       "<thead><tr><th scope=col>Name</th><th scope=col>Class</th></tr></thead>\n",
       "<tbody>\n",
       "\t<tr><td>John     </td><td>Economy  </td></tr>\n",
       "\t<tr><td>Jake     </td><td>First    </td></tr>\n",
       "\t<tr><td>Anna     </td><td>First    </td></tr>\n",
       "\t<tr><td>Spongebob</td><td>Business </td></tr>\n",
       "</tbody>\n",
       "</table>\n"
      ],
      "text/latex": [
       "\\begin{tabular}{r|ll}\n",
       " Name & Class\\\\\n",
       "\\hline\n",
       "\t John      & Economy  \\\\\n",
       "\t Jake      & First    \\\\\n",
       "\t Anna      & First    \\\\\n",
       "\t Spongebob & Business \\\\\n",
       "\\end{tabular}\n"
      ],
      "text/markdown": [
       "\n",
       "| Name | Class |\n",
       "|---|---|\n",
       "| John      | Economy   |\n",
       "| Jake      | First     |\n",
       "| Anna      | First     |\n",
       "| Spongebob | Business  |\n",
       "\n"
      ],
      "text/plain": [
       "  Name      Class   \n",
       "1 John      Economy \n",
       "2 Jake      First   \n",
       "3 Anna      First   \n",
       "4 Spongebob Business"
      ]
     },
     "metadata": {},
     "output_type": "display_data"
    }
   ],
   "source": [
    "df = list(\"Name\" = c('John', 'Jake', 'Anna', 'Spongebob'), \"Class\"= c('Economy', 'First', 'First', 'Business'))\n",
    "\n",
    "\n",
    "df = data.frame(df)\n",
    "\n",
    "df"
   ]
  },
  {
   "cell_type": "code",
   "execution_count": 42,
   "id": "094cb601",
   "metadata": {},
   "outputs": [
    {
     "data": {
      "text/html": [
       "<ol class=list-inline>\n",
       "\t<li>'Economy'</li>\n",
       "\t<li>'First'</li>\n",
       "\t<li>'Business'</li>\n",
       "</ol>\n"
      ],
      "text/latex": [
       "\\begin{enumerate*}\n",
       "\\item 'Economy'\n",
       "\\item 'First'\n",
       "\\item 'Business'\n",
       "\\end{enumerate*}\n"
      ],
      "text/markdown": [
       "1. 'Economy'\n",
       "2. 'First'\n",
       "3. 'Business'\n",
       "\n",
       "\n"
      ],
      "text/plain": [
       "[1] \"Economy\"  \"First\"    \"Business\""
      ]
     },
     "metadata": {},
     "output_type": "display_data"
    }
   ],
   "source": [
    "# identifies all distinct types of class\n",
    "all_class_type = c()\n",
    "\n",
    "for (class_type in df$Class) {\n",
    "    if (is.na(match(class_type, all_class_type))) {\n",
    "        all_class_type = c(all_class_type, class_type)\n",
    "    }\n",
    "}\n",
    "\n",
    "all_class_type"
   ]
  },
  {
   "cell_type": "code",
   "execution_count": 43,
   "id": "4b9e73a6",
   "metadata": {},
   "outputs": [],
   "source": [
    "for (class_type in all_class_type) {\n",
    "    class_type_col = c()\n",
    "    for (class in df$Class) {\n",
    "        if (grepl(class_type, class)) {\n",
    "            class_type_col = c(class_type_col, 1)\n",
    "        } else {\n",
    "            class_type_col = c(class_type_col, 0)\n",
    "        }\n",
    "    }\n",
    "    df = cbind(df, class_type_col)\n",
    "    colnames(df)[length(colnames(df))] = class_type\n",
    "}"
   ]
  },
  {
   "cell_type": "code",
   "execution_count": 44,
   "id": "2135db1a",
   "metadata": {},
   "outputs": [
    {
     "data": {
      "text/html": [
       "<table>\n",
       "<thead><tr><th scope=col>Name</th><th scope=col>Class</th><th scope=col>Economy</th><th scope=col>First</th><th scope=col>Business</th></tr></thead>\n",
       "<tbody>\n",
       "\t<tr><td>John     </td><td>Economy  </td><td>1        </td><td>0        </td><td>0        </td></tr>\n",
       "\t<tr><td>Jake     </td><td>First    </td><td>0        </td><td>1        </td><td>0        </td></tr>\n",
       "\t<tr><td>Anna     </td><td>First    </td><td>0        </td><td>1        </td><td>0        </td></tr>\n",
       "\t<tr><td>Spongebob</td><td>Business </td><td>0        </td><td>0        </td><td>1        </td></tr>\n",
       "</tbody>\n",
       "</table>\n"
      ],
      "text/latex": [
       "\\begin{tabular}{r|lllll}\n",
       " Name & Class & Economy & First & Business\\\\\n",
       "\\hline\n",
       "\t John      & Economy   & 1         & 0         & 0        \\\\\n",
       "\t Jake      & First     & 0         & 1         & 0        \\\\\n",
       "\t Anna      & First     & 0         & 1         & 0        \\\\\n",
       "\t Spongebob & Business  & 0         & 0         & 1        \\\\\n",
       "\\end{tabular}\n"
      ],
      "text/markdown": [
       "\n",
       "| Name | Class | Economy | First | Business |\n",
       "|---|---|---|---|---|\n",
       "| John      | Economy   | 1         | 0         | 0         |\n",
       "| Jake      | First     | 0         | 1         | 0         |\n",
       "| Anna      | First     | 0         | 1         | 0         |\n",
       "| Spongebob | Business  | 0         | 0         | 1         |\n",
       "\n"
      ],
      "text/plain": [
       "  Name      Class    Economy First Business\n",
       "1 John      Economy  1       0     0       \n",
       "2 Jake      First    0       1     0       \n",
       "3 Anna      First    0       1     0       \n",
       "4 Spongebob Business 0       0     1       "
      ]
     },
     "metadata": {},
     "output_type": "display_data"
    }
   ],
   "source": [
    "df"
   ]
  }
 ],
 "metadata": {
  "kernelspec": {
   "display_name": "R",
   "language": "R",
   "name": "ir"
  },
  "language_info": {
   "codemirror_mode": "r",
   "file_extension": ".r",
   "mimetype": "text/x-r-source",
   "name": "R",
   "pygments_lexer": "r",
   "version": "3.6.1"
  }
 },
 "nbformat": 4,
 "nbformat_minor": 5
}
