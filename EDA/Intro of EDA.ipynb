{
 "cells": [
  {
   "cell_type": "markdown",
   "id": "f9c2215d",
   "metadata": {},
   "source": [
    "# What is EDA?"
   ]
  },
  {
   "cell_type": "markdown",
   "id": "48b6f977",
   "metadata": {},
   "source": [
    "## Introduction\n",
    "\n",
    "***Exploratory Data Analysis***, in simple words, everything you need to do before modelling and analysis.\n",
    "It refers to making sense of the data at hand and getting to know it."
   ]
  },
  {
   "cell_type": "markdown",
   "id": "fbcd40dd",
   "metadata": {},
   "source": [
    "## Goals of EDA\n",
    "\n",
    "- Uncover the data sructure and determine how it is coded\n",
    "- Inspect and \"get to know\" the data by summarizing and visualizing it\n",
    "- Detect outliers, missing data, and other anomalies and decide how/whether to address there issues\n",
    "- Find new avenues for analysis and further research\n",
    "- Prepare for model building or analysis, including the following\n",
    "    - Check assumptions\n",
    "    - Select features\n",
    "    - Choose an appropriate method"
   ]
  },
  {
   "cell_type": "markdown",
   "id": "8eb889e2",
   "metadata": {},
   "source": [
    "## EDA techniques\n",
    " - Data inspection\n",
    " - Numerical summarization\n",
    " - Data visualization"
   ]
  },
  {
   "cell_type": "markdown",
   "id": "56167f80",
   "metadata": {},
   "source": [
    "## Important Note: EDA is a cyclical process\n",
    "\n",
    "- **Don't try to do everthing in the EDA step**\n",
    "- It is very ***common to revist your EDA step*** again and again even if you have already started to build a model\n"
   ]
  },
  {
   "cell_type": "code",
   "execution_count": null,
   "id": "26ad9480",
   "metadata": {},
   "outputs": [],
   "source": []
  }
 ],
 "metadata": {
  "kernelspec": {
   "display_name": "Python 3 (ipykernel)",
   "language": "python",
   "name": "python3"
  },
  "language_info": {
   "codemirror_mode": {
    "name": "ipython",
    "version": 3
   },
   "file_extension": ".py",
   "mimetype": "text/x-python",
   "name": "python",
   "nbconvert_exporter": "python",
   "pygments_lexer": "ipython3",
   "version": "3.9.7"
  }
 },
 "nbformat": 4,
 "nbformat_minor": 5
}
